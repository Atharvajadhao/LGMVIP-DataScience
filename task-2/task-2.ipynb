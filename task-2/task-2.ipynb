{
 "cells": [
  {
   "cell_type": "markdown",
   "id": "2e89a654",
   "metadata": {},
   "source": [
    "# TASK 2: Image to Pencil Sketch with Python"
   ]
  },
  {
   "cell_type": "markdown",
   "id": "24f934fd",
   "metadata": {},
   "source": [
    "Firstly import you opencv module which is cv2"
   ]
  },
  {
   "cell_type": "code",
   "execution_count": 1,
   "id": "82536fc1",
   "metadata": {},
   "outputs": [],
   "source": [
    "import cv2"
   ]
  },
  {
   "cell_type": "markdown",
   "id": "c494409a",
   "metadata": {},
   "source": [
    "Next we have to import our image to work on it"
   ]
  },
  {
   "cell_type": "code",
   "execution_count": 2,
   "id": "44c8b93c",
   "metadata": {},
   "outputs": [],
   "source": [
    "img = cv2.imread(\"E:\\\\Internships\\\\Data_Science_Intern(LetsGrowMore)\\\\task-2\\\\data\\\\POPPYBELLA_19.jpg\")"
   ]
  },
  {
   "cell_type": "markdown",
   "id": "e9ec8819",
   "metadata": {},
   "source": [
    "Now we will display our image in array form"
   ]
  },
  {
   "cell_type": "code",
   "execution_count": 3,
   "id": "8017809b",
   "metadata": {},
   "outputs": [
    {
     "data": {
      "text/plain": [
       "array([[[163, 143, 118],\n",
       "        [163, 143, 118],\n",
       "        [163, 143, 118],\n",
       "        ...,\n",
       "        [164, 144, 119],\n",
       "        [164, 144, 119],\n",
       "        [164, 144, 119]],\n",
       "\n",
       "       [[163, 143, 118],\n",
       "        [163, 143, 118],\n",
       "        [163, 143, 118],\n",
       "        ...,\n",
       "        [164, 144, 119],\n",
       "        [164, 144, 119],\n",
       "        [164, 144, 119]],\n",
       "\n",
       "       [[163, 143, 118],\n",
       "        [163, 143, 118],\n",
       "        [163, 143, 118],\n",
       "        ...,\n",
       "        [164, 144, 119],\n",
       "        [164, 144, 119],\n",
       "        [164, 144, 119]],\n",
       "\n",
       "       ...,\n",
       "\n",
       "       [[164, 144, 119],\n",
       "        [164, 144, 119],\n",
       "        [164, 144, 119],\n",
       "        ...,\n",
       "        [165, 145, 120],\n",
       "        [165, 145, 120],\n",
       "        [165, 145, 120]],\n",
       "\n",
       "       [[164, 144, 119],\n",
       "        [164, 144, 119],\n",
       "        [164, 144, 119],\n",
       "        ...,\n",
       "        [165, 145, 120],\n",
       "        [165, 145, 120],\n",
       "        [165, 145, 120]],\n",
       "\n",
       "       [[164, 144, 119],\n",
       "        [164, 144, 119],\n",
       "        [164, 144, 119],\n",
       "        ...,\n",
       "        [165, 145, 120],\n",
       "        [165, 145, 120],\n",
       "        [165, 145, 120]]], dtype=uint8)"
      ]
     },
     "execution_count": 3,
     "metadata": {},
     "output_type": "execute_result"
    }
   ],
   "source": [
    "img"
   ]
  },
  {
   "cell_type": "markdown",
   "id": "c9894810",
   "metadata": {},
   "source": [
    "Next we will check the shape of our image"
   ]
  },
  {
   "cell_type": "code",
   "execution_count": 4,
   "id": "5d5028ee",
   "metadata": {},
   "outputs": [
    {
     "data": {
      "text/plain": [
       "(640, 512, 3)"
      ]
     },
     "execution_count": 4,
     "metadata": {},
     "output_type": "execute_result"
    }
   ],
   "source": [
    "img.shape"
   ]
  },
  {
   "cell_type": "markdown",
   "id": "3e59f8f6",
   "metadata": {},
   "source": [
    "In the next step we will display our image\n",
    "\n",
    "waits for user to press any key \n",
    "\n",
    "this is necessary to avoid Python kernel form crashing"
   ]
  },
  {
   "cell_type": "code",
   "execution_count": 18,
   "id": "2884ed78",
   "metadata": {},
   "outputs": [
    {
     "data": {
      "text/plain": [
       "-1"
      ]
     },
     "execution_count": 18,
     "metadata": {},
     "output_type": "execute_result"
    }
   ],
   "source": [
    "cv2.imshow('image',img)\n",
    "cv2.waitKey(0)"
   ]
  },
  {
   "cell_type": "markdown",
   "id": "c496e6ba",
   "metadata": {},
   "source": [
    "Now we will convert our original image to grayscale image and will display the same"
   ]
  },
  {
   "cell_type": "code",
   "execution_count": 6,
   "id": "fd4de846",
   "metadata": {},
   "outputs": [],
   "source": [
    "gray_img = cv2.cvtColor(img, cv2.COLOR_BGR2GRAY)"
   ]
  },
  {
   "cell_type": "code",
   "execution_count": 19,
   "id": "b430405a",
   "metadata": {},
   "outputs": [
    {
     "data": {
      "text/plain": [
       "-1"
      ]
     },
     "execution_count": 19,
     "metadata": {},
     "output_type": "execute_result"
    }
   ],
   "source": [
    "cv2.imshow(\"Image_gray\", gray_img)\n",
    "cv2.waitKey(0)"
   ]
  },
  {
   "cell_type": "markdown",
   "id": "f2b69cc2",
   "metadata": {},
   "source": [
    "Next we will **invert** our image of grayscale and display it"
   ]
  },
  {
   "cell_type": "code",
   "execution_count": 8,
   "id": "c7abc884",
   "metadata": {},
   "outputs": [],
   "source": [
    "invert_img = 255 - gray_img"
   ]
  },
  {
   "cell_type": "code",
   "execution_count": 20,
   "id": "17b37e32",
   "metadata": {},
   "outputs": [
    {
     "data": {
      "text/plain": [
       "-1"
      ]
     },
     "execution_count": 20,
     "metadata": {},
     "output_type": "execute_result"
    }
   ],
   "source": [
    "cv2.imshow(\"Inverted Image\", invert_img)\n",
    "cv2.waitKey(0)"
   ]
  },
  {
   "cell_type": "markdown",
   "id": "7d0b0df3",
   "metadata": {},
   "source": [
    "Next we will blur that inverted image by using gaussian blur function in cv2 module"
   ]
  },
  {
   "cell_type": "code",
   "execution_count": 10,
   "id": "ab21e256",
   "metadata": {},
   "outputs": [],
   "source": [
    "blurred = cv2.GaussianBlur(invert_img, (21, 21), 0)"
   ]
  },
  {
   "cell_type": "markdown",
   "id": "5c51f09d",
   "metadata": {},
   "source": [
    "Now in the final step we will again invert our blurred image, and then we will get our pencil sketch of that image"
   ]
  },
  {
   "cell_type": "code",
   "execution_count": 21,
   "id": "74ed4d64",
   "metadata": {},
   "outputs": [],
   "source": [
    "invert_blur = 255 - blurred\n",
    "final_sketch = cv2.divide(gray_img, invert_blur, scale=256.0)"
   ]
  },
  {
   "cell_type": "code",
   "execution_count": 22,
   "id": "f1f698c9",
   "metadata": {},
   "outputs": [
    {
     "data": {
      "text/plain": [
       "-1"
      ]
     },
     "execution_count": 22,
     "metadata": {},
     "output_type": "execute_result"
    }
   ],
   "source": [
    "cv2.imshow(\"Final Pencil Sketch\", final_sketch)\n",
    "cv2.waitKey(0)"
   ]
  },
  {
   "cell_type": "code",
   "execution_count": null,
   "id": "ee3b7cf0",
   "metadata": {},
   "outputs": [],
   "source": []
  }
 ],
 "metadata": {
  "kernelspec": {
   "display_name": "Python 3 (ipykernel)",
   "language": "python",
   "name": "python3"
  },
  "language_info": {
   "codemirror_mode": {
    "name": "ipython",
    "version": 3
   },
   "file_extension": ".py",
   "mimetype": "text/x-python",
   "name": "python",
   "nbconvert_exporter": "python",
   "pygments_lexer": "ipython3",
   "version": "3.9.6"
  }
 },
 "nbformat": 4,
 "nbformat_minor": 5
}
